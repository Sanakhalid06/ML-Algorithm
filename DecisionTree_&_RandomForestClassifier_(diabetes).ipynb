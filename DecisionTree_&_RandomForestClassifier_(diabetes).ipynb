{
  "cells": [
    {
      "cell_type": "code",
      "execution_count": 1,
      "id": "b3887d6c",
      "metadata": {
        "colab": {
          "base_uri": "https://localhost:8080/"
        },
        "id": "b3887d6c",
        "outputId": "00a3fca8-f928-470c-893c-ba4fcd821052"
      },
      "outputs": [
        {
          "output_type": "stream",
          "name": "stderr",
          "text": [
            "UsageError: Line magic function `%matplotlin` not found.\n"
          ]
        }
      ],
      "source": [
        "import numpy as np\n",
        "import pandas as pd\n",
        "import matplotlib.pyplot as plt\n",
        "import seaborn as sns\n",
        "%matplotlin inline"
      ]
    },
    {
      "cell_type": "code",
      "execution_count": null,
      "id": "48e1d774",
      "metadata": {
        "id": "48e1d774"
      },
      "outputs": [],
      "source": [
        "df = pd.read_csv('diabetes.csv')\n",
        "df.head()"
      ]
    },
    {
      "cell_type": "markdown",
      "id": "1d83428e",
      "metadata": {
        "id": "1d83428e"
      },
      "source": [
        "## EDA"
      ]
    },
    {
      "cell_type": "markdown",
      "id": "722b0773",
      "metadata": {
        "id": "722b0773"
      },
      "source": [
        "#### we will just out a simple pairplot for this small dataset."
      ]
    },
    {
      "cell_type": "code",
      "execution_count": null,
      "id": "3ec09f92",
      "metadata": {
        "id": "3ec09f92"
      },
      "outputs": [],
      "source": [
        "a=sns.pairplot(df,hue='Outcome',palette='Set1')"
      ]
    },
    {
      "cell_type": "markdown",
      "id": "afd505fc",
      "metadata": {
        "id": "afd505fc"
      },
      "source": [
        "### Train Test Split"
      ]
    },
    {
      "cell_type": "code",
      "execution_count": null,
      "id": "dbffee4f",
      "metadata": {
        "id": "dbffee4f"
      },
      "outputs": [],
      "source": [
        "from sklearn.model_selection import train_test_split"
      ]
    },
    {
      "cell_type": "code",
      "execution_count": null,
      "id": "00f63fe7",
      "metadata": {
        "id": "00f63fe7"
      },
      "outputs": [],
      "source": [
        "x_train,x_test,y_train,y_test = train_test_split(df.drop('Outcome',axis= 1),df['Outcome'],test_size = 0.3)"
      ]
    },
    {
      "cell_type": "markdown",
      "id": "9f9598ff",
      "metadata": {
        "id": "9f9598ff"
      },
      "source": [
        "### Decision Trees"
      ]
    },
    {
      "cell_type": "markdown",
      "id": "d1afdbba",
      "metadata": {
        "id": "d1afdbba"
      },
      "source": [
        "We'll start just by training a single decision tree."
      ]
    },
    {
      "cell_type": "code",
      "execution_count": null,
      "id": "62d5642f",
      "metadata": {
        "id": "62d5642f"
      },
      "outputs": [],
      "source": [
        "from sklearn.tree import DecisionTreeClassifier"
      ]
    },
    {
      "cell_type": "code",
      "execution_count": null,
      "id": "7b1792b9",
      "metadata": {
        "id": "7b1792b9"
      },
      "outputs": [],
      "source": [
        "dtree = DecisionTreeClassifier ()"
      ]
    },
    {
      "cell_type": "code",
      "execution_count": null,
      "id": "4bdf5037",
      "metadata": {
        "id": "4bdf5037"
      },
      "outputs": [],
      "source": [
        "dtree.fit(x_train, y_train)"
      ]
    },
    {
      "cell_type": "markdown",
      "id": "1e8d9442",
      "metadata": {
        "id": "1e8d9442"
      },
      "source": [
        "### Prediction and Evaluation"
      ]
    },
    {
      "cell_type": "markdown",
      "id": "df840c2b",
      "metadata": {
        "id": "df840c2b"
      },
      "source": [
        "Let's evaluate our decision tree."
      ]
    },
    {
      "cell_type": "code",
      "execution_count": null,
      "id": "fd1529da",
      "metadata": {
        "id": "fd1529da"
      },
      "outputs": [],
      "source": [
        "prediction = dtree.predict(x_test)"
      ]
    },
    {
      "cell_type": "code",
      "execution_count": null,
      "id": "1ee69143",
      "metadata": {
        "id": "1ee69143"
      },
      "outputs": [],
      "source": [
        "from sklearn.metrics import classification_report,confusion_matrix "
      ]
    },
    {
      "cell_type": "code",
      "execution_count": null,
      "id": "a70dd05f",
      "metadata": {
        "id": "a70dd05f"
      },
      "outputs": [],
      "source": [
        "print(classification_report(y_test,prediction))"
      ]
    },
    {
      "cell_type": "code",
      "execution_count": null,
      "id": "ec034a47",
      "metadata": {
        "id": "ec034a47"
      },
      "outputs": [],
      "source": [
        "print(confusion_matrix(y_test,prediction))"
      ]
    },
    {
      "cell_type": "markdown",
      "id": "aa9eac82",
      "metadata": {
        "id": "aa9eac82"
      },
      "source": [
        "### Tree Visualization"
      ]
    },
    {
      "cell_type": "markdown",
      "id": "284e1d25",
      "metadata": {
        "id": "284e1d25"
      },
      "source": [
        "Scikit learn actually has some built-in visualization capabilities for decision trees, you won't use this often and it requires you to install the pydot library, but here is an example of what it looks like and the code to execute this:"
      ]
    },
    {
      "cell_type": "code",
      "execution_count": null,
      "id": "34bdac6f",
      "metadata": {
        "id": "34bdac6f"
      },
      "outputs": [],
      "source": [
        "from IPython.display import Image\n",
        "from sklearn.tree import export_graphviz\n",
        "from sklearn.externals.six import StringIO"
      ]
    },
    {
      "cell_type": "code",
      "execution_count": null,
      "id": "a7ef0979",
      "metadata": {
        "id": "a7ef0979"
      },
      "outputs": [],
      "source": [
        "!pip install sklearn.externals.six"
      ]
    },
    {
      "cell_type": "code",
      "execution_count": null,
      "id": "b4e9d4b3",
      "metadata": {
        "id": "b4e9d4b3"
      },
      "outputs": [],
      "source": [
        "export_graphviz(dtree, out_file=dot_data,feature_names=features,filled=True,rounded=True)"
      ]
    },
    {
      "cell_type": "markdown",
      "id": "470aaff2",
      "metadata": {
        "id": "470aaff2"
      },
      "source": [
        "## Random Forests"
      ]
    },
    {
      "cell_type": "code",
      "execution_count": null,
      "id": "9d8ed9b4",
      "metadata": {
        "id": "9d8ed9b4"
      },
      "outputs": [],
      "source": [
        "from sklearn.externals.six import StringIO\n",
        "import pydot"
      ]
    },
    {
      "cell_type": "markdown",
      "id": "46333644",
      "metadata": {
        "id": "46333644"
      },
      "source": [
        "Now let's compare the decision tree model to a random forest."
      ]
    },
    {
      "cell_type": "code",
      "execution_count": null,
      "id": "724677d8",
      "metadata": {
        "id": "724677d8"
      },
      "outputs": [],
      "source": [
        "from sklearn.ensemble import RandomForestClassifier\n",
        "rfc = RandomForestClassifier(n_estimators=100)\n",
        "rfc.fit(x_train,y_train)"
      ]
    },
    {
      "cell_type": "code",
      "execution_count": null,
      "id": "240bb53e",
      "metadata": {
        "id": "240bb53e"
      },
      "outputs": [],
      "source": [
        "rfc_pred = rfc.predict(x_test)"
      ]
    },
    {
      "cell_type": "code",
      "execution_count": null,
      "id": "15e5a290",
      "metadata": {
        "id": "15e5a290"
      },
      "outputs": [],
      "source": [
        "print(confusion_matrix(y_test,rfc_pred))"
      ]
    },
    {
      "cell_type": "code",
      "execution_count": null,
      "id": "1edc84e5",
      "metadata": {
        "id": "1edc84e5"
      },
      "outputs": [],
      "source": [
        "print(classification_report(y_test,rfc_pred))"
      ]
    },
    {
      "cell_type": "markdown",
      "id": "7e5f9a85",
      "metadata": {
        "id": "7e5f9a85"
      },
      "source": [
        "##### The End!"
      ]
    },
    {
      "cell_type": "code",
      "execution_count": null,
      "id": "919c0de8",
      "metadata": {
        "id": "919c0de8"
      },
      "outputs": [],
      "source": [
        ""
      ]
    }
  ],
  "metadata": {
    "kernelspec": {
      "display_name": "Python 3",
      "language": "python",
      "name": "python3"
    },
    "language_info": {
      "codemirror_mode": {
        "name": "ipython",
        "version": 3
      },
      "file_extension": ".py",
      "mimetype": "text/x-python",
      "name": "python",
      "nbconvert_exporter": "python",
      "pygments_lexer": "ipython3",
      "version": "3.8.8"
    },
    "colab": {
      "name": "DecisionTree & RandomForestClassifier (diabetes).ipynb",
      "provenance": []
    }
  },
  "nbformat": 4,
  "nbformat_minor": 5
}